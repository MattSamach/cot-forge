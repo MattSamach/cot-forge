{
 "cells": [
  {
   "cell_type": "markdown",
   "id": "2b680066",
   "metadata": {},
   "source": [
    "# Batch Run Example\n",
    "\n",
    "This example demonstrates how to run build cot Search Results on a batch of question/answer pairs using the CoTBuilder class. Results are saved to a files in jsonl format as well as saved in memory."
   ]
  },
  {
   "cell_type": "markdown",
   "id": "596ce9e5",
   "metadata": {},
   "source": [
    "**Imports**\n",
    "\n",
    "This example will use LMStudio for local model serving and OpenAI for generation via external API. CoT-Forge also supports major LLM providers like Gemini, Groq, and Anthropic. Download LMStudio [here](https://lmstudio.ai/), download a model and run a local server."
   ]
  },
  {
   "cell_type": "code",
   "execution_count": 63,
   "id": "b80393ec",
   "metadata": {},
   "outputs": [],
   "source": [
    "from datasets import load_dataset\n",
    "\n",
    "from cot_forge import CoTBuilder, LLMJudgeVerifier, NaiveLinearSearch\n",
    "from cot_forge.llm import AnthropicProvider, OpenAIProvider"
   ]
  },
  {
   "cell_type": "markdown",
   "id": "b49bb533",
   "metadata": {},
   "source": [
    "#### Dataset\n",
    "The dataset we will use is [medical-o1-verifiable-problem by FreedomIntelligence on HuggingFace](https://huggingface.co/datasets/FreedomIntelligence/medical-o1-verifiable-problem). This dataset contains a set of open-ended medical questions and ground truth answers.\n",
    "\n"
   ]
  },
  {
   "cell_type": "code",
   "execution_count": 64,
   "id": "053b63a1",
   "metadata": {},
   "outputs": [
    {
     "name": "stdout",
     "output_type": "stream",
     "text": [
      "Problem #1: An 88-year-old woman with osteoarthritis is experiencing mild epigastric discomfort and has vomited material resembling coffee grounds multiple times. Considering her use of naproxen, what is the most likely cause of her gastrointestinal blood loss?\n",
      "Solution #1: Gastric ulcer\n"
     ]
    }
   ],
   "source": [
    "ds = load_dataset(\"FreedomIntelligence/medical-o1-verifiable-problem\", split=\"train[:200]\")\n",
    "problems = ds[\"Open-ended Verifiable Question\"]\n",
    "solutions = ds[\"Ground-True Answer\"]\n",
    "\n",
    "# Print the first problem and solution to see the data format\n",
    "print(f\"Problem #1: {problems[0]}\")\n",
    "print(f\"Solution #1: {solutions[0]}\")"
   ]
  },
  {
   "cell_type": "markdown",
   "id": "9481d915",
   "metadata": {},
   "source": [
    "#### Using CoTBuilder class to run batch build"
   ]
  },
  {
   "cell_type": "code",
   "execution_count": 65,
   "id": "dd1459cd",
   "metadata": {},
   "outputs": [],
   "source": [
    "# We'l use meta-llama-3-8b-instruct as our search_llm.\n",
    "# gpt-4o will be used for the verifier.\n",
    "gpt_4o = OpenAIProvider(model_name=\"gpt-4o\")\n",
    "sonnet_3_5 = AnthropicProvider(model_name=\"claude-3-5-sonnet-20241022\")\n",
    "\n",
    "builder = CoTBuilder(\n",
    "    search_llm=gpt_4o, # generates reasoning steps\n",
    "    search=NaiveLinearSearch(), # Naive linear search chooses random reasoning steps in a chain\n",
    "    verifier=LLMJudgeVerifier(llm_provider=sonnet_3_5, strict=False), # claude sonnet to verify answers\n",
    "    post_processing_llm=sonnet_3_5, # converts reasoning into natural language\n",
    "    dataset_name=\"medical-o1-verifiable-problem\", # dataset name, used for folder structure\n",
    "    base_dir= \"./data\", # base directory to save the results\n",
    ")"
   ]
  },
  {
   "cell_type": "markdown",
   "id": "66b4c1ee",
   "metadata": {},
   "source": [
    "Let's process our dataset using the process_batch() method of CoTBuilder. This method can be run with multi-threading to speed up the process or with a single thread. Because we supplied a dataset_name parameter, the results will be saved to a file in jsonl format."
   ]
  },
  {
   "cell_type": "code",
   "execution_count": 66,
   "id": "275242d3",
   "metadata": {},
   "outputs": [
    {
     "name": "stderr",
     "output_type": "stream",
     "text": [
      "Multi-thread processing question and ground truth answer pairs.: 100%|██████████| 20/20 [02:58<00:00,  8.91s/pair]\n"
     ]
    }
   ],
   "source": [
    "results = builder.process_batch(\n",
    "    questions=problems, # List of questions\n",
    "    ground_truth_answers=solutions, # List of ground truth answers\n",
    "    multi_thread=True, # Use multi-threading for processing\n",
    "    max_workers=4, # Number of workers to use for processing\n",
    "    load_processed=True, # Load previously processed results if available\n",
    "    only_successful=False, # Only process successful results into natural language\n",
    "    overwrite=True, # Overwrite existing results if any collisions occur\n",
    "    limit=20 # Limit the number of questions to process\n",
    ")"
   ]
  },
  {
   "cell_type": "markdown",
   "id": "cd999f24",
   "metadata": {},
   "source": [
    "#### Examining results\n",
    "\n",
    "Results are returned as a list of tuples, each with a [SearchResult](../src/cot_forge/reasoning/types.py#L137) object and a dictionary with the natural language reasoning text."
   ]
  },
  {
   "cell_type": "code",
   "execution_count": 96,
   "id": "f99fe0b9",
   "metadata": {},
   "outputs": [
    {
     "name": "stdout",
     "output_type": "stream",
     "text": [
      "SearchResult(success=True, question=A 20-year-old female patient p..., num_terminal_nodes=1, num_successful_nodes=1, successful_answers=[\"Given the patient's age, MRI characteristics, and symptom of 6th cranial nerve palsy, the most probable diagnosis is a schwannoma, likely a trigeminal schwannoma affecting the cavernous sinus.\"])\n"
     ]
    }
   ],
   "source": [
    "sample_result, reasoning = results[12]\n",
    "print(sample_result)"
   ]
  },
  {
   "cell_type": "markdown",
   "id": "cdfa0c50",
   "metadata": {},
   "source": [
    "Our search result was a success! Let's dig in further."
   ]
  },
  {
   "cell_type": "code",
   "execution_count": 97,
   "id": "4ae4c94b",
   "metadata": {},
   "outputs": [
    {
     "name": "stdout",
     "output_type": "stream",
     "text": [
      "Step 0: ReasoningNode(strategy=initialize, success=False, final=False, cot_steps=6)\n",
      "Step 1: ReasoningNode(strategy=validation, success=True, final=True, cot_steps=6)\n"
     ]
    }
   ],
   "source": [
    "# Each SearchResult object contains a list of terminal nodes.\n",
    "# Because we used a linear search, there is only one chain and therefore one terminal node.\n",
    "terminal_node = sample_result.terminal_nodes[0]\n",
    "for i, node in enumerate(terminal_node.get_full_node_chain()):\n",
    "  print(f\"Step {i}: {node}\")"
   ]
  },
  {
   "cell_type": "markdown",
   "id": "7aaa836e",
   "metadata": {},
   "source": [
    "### Natural language reasoning\n",
    "Let's examine the natural language reasoning text from our sample result. Reasoning happens between the <reasoning> tags, followed by the final answer."
   ]
  },
  {
   "cell_type": "code",
   "execution_count": 98,
   "id": "b11a9698",
   "metadata": {},
   "outputs": [
    {
     "name": "stdout",
     "output_type": "stream",
     "text": [
      "<thinking>Let me think about this case... A young woman with 6th cranial nerve palsy. That's going to affect her lateral rectus muscle, so she's probably experiencing double vision.\n",
      "\n",
      "Okay, looking at the MRI findings - we've got a hyperintense lesion in the cavernous sinus that enhances homogeneously with contrast. Hmm, that's interesting.\n",
      "\n",
      "What typically causes lesions in that area? Well, the usual suspects would be meningiomas, schwannomas, maybe cavernous sinus thrombosis... The homogeneous enhancement is pretty characteristic of meningiomas, actually.\n",
      "\n",
      "Wait a minute - let me consider the patient's age. She's only 20 years old. While meningiomas do tend to occur more in females, they're usually seen in older patients. That makes me question my initial thinking.\n",
      "\n",
      "Let me think about schwannomas for a moment... They also show up as hyperintense on T2 and enhance homogeneously. And trigeminal schwannomas, in particular, love to hang out in the cavernous sinus region.\n",
      "\n",
      "Oh, and the age actually fits better with schwannoma - they can definitely occur in younger patients. Plus, the single cranial nerve involvement (just CN VI) is pretty typical for a schwannoma.\n",
      "\n",
      "I should probably consider Tolosa-Hunt syndrome too, since it can look similar on imaging... but those patients usually have pretty significant pain, which isn't mentioned here. And they tend to have multiple cranial nerve involvement.\n",
      "\n",
      "You know what? The more I think about it, this really feels like a schwannoma. The age, the imaging characteristics, the single cranial nerve palsy - it all fits together better than the other options.\n",
      "\n",
      "Yeah, I'm going to go with schwannoma as my final diagnosis, most likely a trigeminal schwannoma that's affecting the cavernous sinus and compressing the 6th cranial nerve.</thinking>\n",
      "\n",
      "Based on the clinical presentation and imaging findings, the most probable diagnosis is a schwannoma, likely a trigeminal schwannoma.\n",
      "\n",
      "This diagnosis is supported by several key factors:\n",
      "1. The patient's young age (20 years old), which is consistent with the typical age range for schwannomas\n",
      "2. The characteristic MRI findings of a hyperintense lesion on T2-weighted imaging with homogeneous contrast enhancement\n",
      "3. The anatomical location in the cavernous sinus\n",
      "4. The isolated 6th cranial nerve palsy, which can occur due to compression from the tumor\n",
      "\n",
      "While other diagnoses like meningioma or Tolosa-Hunt syndrome could present similarly on imaging, the patient's age and single cranial nerve involvement make schwannoma the most likely diagnosis in this case.\n"
     ]
    }
   ],
   "source": [
    "print(reasoning['chain_of_thought_responses'][0])"
   ]
  },
  {
   "cell_type": "markdown",
   "id": "0aeb8b9d",
   "metadata": {},
   "source": [
    "#### Results storage\n",
    "\n",
    "In our CoTBuilder object, we specified `dataset_name=\"medical-o1-verifiable-problem\"` and `base_dir= \"./data\"`. This means that the results will be saved to a folder called `./data/medical-o1-verifiable-problem` in the current working directory. Additionally, another folder at `./data/medical-o1-verifiable-problem/naive_linear_search` was created to store the results of the naive linear search. If a different search algorithm were used, the folder name would reflect that and results would be stored there instead to avoid overwriting.\n",
    "\n",
    "Generally, the results will be saved in a folder structure like this:\n",
    "\n",
    "```bash\n",
    "base_dir/\n",
    "└── dataset_name/\n",
    "    ├── search_algorithm/\n",
    "    │   ├── config.json\n",
    "    │   ├── metadata.json\n",
    "    │   ├── results.jsonl\n",
    "    │   └── reasoning.jsonl\n",
    "```"
   ]
  },
  {
   "cell_type": "code",
   "execution_count": 99,
   "id": "14d8fbe3",
   "metadata": {},
   "outputs": [
    {
     "name": "stdout",
     "output_type": "stream",
     "text": [
      "['reasoning.jsonl', 'config.json', 'metadata.json', 'results.jsonl']\n"
     ]
    }
   ],
   "source": [
    "import os\n",
    "\n",
    "print(os.listdir(\"./data/medical-o1-verifiable-problem/naive_linear_search\"))"
   ]
  },
  {
   "cell_type": "markdown",
   "id": "824c2c2e",
   "metadata": {},
   "source": [
    "The files contain the following information:\n",
    "- `config.json`: The configuration of the CoTBuilder object used to run the search.\n",
    "- `metadata.json`: Metadata about search progress such as completed items, successful items, last updated time, etc.\n",
    "- `results.jsonl`: Serialized [SearchResult](../src/cot_forge/reasoning/types.py#L137) objects in jsonl format. They can be deserialized using the SearchResult.deserialize() method.\n",
    "- `reasoning.jsonl`: Dictionaries with the natural language reasoning text. Each dictionary contains the following keys:\n",
    "  - `question`: The question that was asked.\n",
    "  - `ground_truth`: The answer that was given.\n",
    "  - `chain_of_thought_responses`: A list of strings, representing the processed reasoning text for each stored chain in a processed question."
   ]
  }
 ],
 "metadata": {
  "kernelspec": {
   "display_name": "cot-forge",
   "language": "python",
   "name": "cot-forge"
  },
  "language_info": {
   "codemirror_mode": {
    "name": "ipython",
    "version": 3
   },
   "file_extension": ".py",
   "mimetype": "text/x-python",
   "name": "python",
   "nbconvert_exporter": "python",
   "pygments_lexer": "ipython3",
   "version": "3.11.5"
  }
 },
 "nbformat": 4,
 "nbformat_minor": 5
}
