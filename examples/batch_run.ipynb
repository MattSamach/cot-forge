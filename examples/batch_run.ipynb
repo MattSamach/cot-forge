{
 "cells": [
  {
   "cell_type": "markdown",
   "id": "2b680066",
   "metadata": {},
   "source": [
    "Coming soon..."
   ]
  }
 ],
 "metadata": {
  "language_info": {
   "name": "python"
  }
 },
 "nbformat": 4,
 "nbformat_minor": 5
}
