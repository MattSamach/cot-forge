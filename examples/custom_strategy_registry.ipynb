{
 "cells": [
  {
   "cell_type": "markdown",
   "id": "5deea750",
   "metadata": {},
   "source": [
    "# Custom strategy registry example"
   ]
  },
  {
   "cell_type": "markdown",
   "id": "12cd9c82",
   "metadata": {},
   "source": [
    "This example demos the concept of ReasoningNodes, Strategies, and StrategyRegistries in CoT-Forge. Users can create their own strategies and use them within search algorithms, or even write their own search algorithms."
   ]
  },
  {
   "cell_type": "markdown",
   "id": "1e3071e1",
   "metadata": {},
   "source": [
    "#### Imports"
   ]
  },
  {
   "cell_type": "code",
   "execution_count": 19,
   "id": "61d83544",
   "metadata": {},
   "outputs": [],
   "source": [
    "from dataclasses import dataclass\n",
    "\n",
    "from cot_forge import (\n",
    "  CoTBuilder,\n",
    "  InitializeCoT,\n",
    "  LLMJudgeVerifier,\n",
    "  NaiveLinearSearch,\n",
    "  Strategy,\n",
    "  StrategyRegistry,\n",
    "  default_strategy_registry,\n",
    ")\n",
    "from cot_forge.llm import LMStudioProvider"
   ]
  },
  {
   "cell_type": "markdown",
   "id": "7779242a",
   "metadata": {},
   "source": [
    "#### Strategy registries\n",
    "\n",
    "In CoT-Forge, each chain is made up of connected [ReasoningNodes](../src/cot_forge/reasoning/types.py#L21). Each node has an associated [Strategy](../src/cot_forge/reasoning/strategies/strategies.py#L63) that prompts the model on how to continue the reasoning process.\n",
    "\n",
    "Strategy registries contain a collection of reasoning strategies and are passed to search algorithms to sample from. Let's take a look at the default strategy registry."
   ]
  },
  {
   "cell_type": "code",
   "execution_count": 2,
   "id": "47d4d04b",
   "metadata": {},
   "outputs": [
    {
     "data": {
      "text/plain": [
       "StrategyRegistry(strategies=[initialize, backtrack, explore_new_paths, correction, validation])"
      ]
     },
     "execution_count": 2,
     "metadata": {},
     "output_type": "execute_result"
    }
   ],
   "source": [
    "default_strategy_registry"
   ]
  },
  {
   "cell_type": "markdown",
   "id": "55acf3ed",
   "metadata": {},
   "source": [
    "We see that the strategy registry contains a list of five reasoning strategies. We can access individual Strategy data classes with the `get_strategy` method."
   ]
  },
  {
   "cell_type": "code",
   "execution_count": 7,
   "id": "2c03c682",
   "metadata": {},
   "outputs": [
    {
     "data": {
      "text/plain": [
       "{'name': 'backtrack',\n",
       " 'description': 'Backtrack: Revise the reasoning by **backtracking to an earlier point** in your analysis. Identify a specific earlier step where the reasoning began to go off track, return to that point, and develop a new chain of thought from there rather than continuing from your latest conclusion.',\n",
       " 'is_initial': False,\n",
       " 'minimum_depth': 2}"
      ]
     },
     "execution_count": 7,
     "metadata": {},
     "output_type": "execute_result"
    }
   ],
   "source": [
    "backtrack_strategy = default_strategy_registry.get_strategy('backtrack')\n",
    "backtrack_strategy.get_metadata()"
   ]
  },
  {
   "cell_type": "markdown",
   "id": "e9fadefb",
   "metadata": {},
   "source": [
    "Above we see the data in the backtrack strategy.\n",
    "- The `description` is what is used in the prompt to the model. \n",
    "- `is_initial` indicates whether this strategy kicks off the reasoning chain.\n",
    "- `minimum_depth` is the minimum number of reasoning nodes that must be present in the chain before this strategy can be used."
   ]
  },
  {
   "cell_type": "markdown",
   "id": "a27de275",
   "metadata": {},
   "source": [
    " #### Creating a custom strategy registry"
   ]
  },
  {
   "cell_type": "code",
   "execution_count": null,
   "id": "76f7149d",
   "metadata": {},
   "outputs": [
    {
     "data": {
      "text/plain": [
       "['initialize', 'analogy', 'refutation']"
      ]
     },
     "execution_count": 15,
     "metadata": {},
     "output_type": "execute_result"
    }
   ],
   "source": [
    "# We'll create our own strategy registry, starting with just the InitializeCoT strategy\n",
    "my_registry = StrategyRegistry(strategies=[InitializeCoT])\n",
    "\n",
    "# We can define our own strategy by creating a new dataclass that inherits from Strategy\n",
    "@dataclass(frozen=True)\n",
    "class Analogy(Strategy):\n",
    "  name = \"analogy\"\n",
    "  description = \"Analogical Reasoning: Enhance your reasoning by using **analogies or metaphors** to reinterpret challenging aspects of your analysis. Draw parallels to more familiar concepts that can illuminate the current problem from a different angle.\"\n",
    "  is_initial = False\n",
    "\n",
    "# Rgister the new strategy with the registry\n",
    "my_registry.register(Analogy)\n",
    "\n",
    "# Alternatively, we can create and register a strategy in one step using the create_and_registr method\n",
    "my_registry.create_and_register(\n",
    "  name=\"refutation\",\n",
    "  description=\"Refutation: Strengthen your reasoning by **actively seeking counterarguments** or alternative perspectives. This strategy encourages you to critically evaluate your own conclusions and consider potential weaknesses in your analysis.\",\n",
    "  is_initial=False,\n",
    ")\n",
    "\n",
    "# List our strategies to make sure they are registered\n",
    "my_registry.list_strategies()"
   ]
  },
  {
   "cell_type": "markdown",
   "id": "a3dd45d8",
   "metadata": {},
   "source": [
    "#### Creating and running a CoTBuilder.\n",
    "Other examples show how to create and run a CoTBuilder in more detail. Here we will just create a simple CoTBuilder, using NaiveLinearSearch as the search algorithm and run it with the custom strategy registry."
   ]
  },
  {
   "cell_type": "code",
   "execution_count": 23,
   "id": "e5d35689",
   "metadata": {},
   "outputs": [],
   "source": [
    "question = \"\"\"Four people - Alex, Blake, Casey, and Dana - are suspects in a theft. When questioned, they make the following statements:\n",
    "\n",
    "Alex says: \"Blake did it.\"\n",
    "Blake says: \"Casey did it.\"\n",
    "Casey says: \"Blake is lying.\"\n",
    "Dana says: \"I didn't do it.\"\n",
    "The detective knows that exactly three of these statements are true and one is false. Who committed the theft?\"\"\"\n",
    "\n",
    "ground_truth = \"Blake\""
   ]
  },
  {
   "cell_type": "code",
   "execution_count": 34,
   "id": "99214e30",
   "metadata": {},
   "outputs": [],
   "source": [
    "llama = LMStudioProvider(model_name=\"meta-llama-3-8b-instruct\")\n",
    "builder = CoTBuilder(\n",
    "    search_llm=llama,\n",
    "    post_processing_llm=llama, \n",
    "    search=NaiveLinearSearch(max_depth=3),\n",
    "    verifier=LLMJudgeVerifier(llama, strict=False),\n",
    "    strategy_registry=my_registry,\n",
    ")"
   ]
  },
  {
   "cell_type": "code",
   "execution_count": 38,
   "id": "48001e2e",
   "metadata": {},
   "outputs": [],
   "source": [
    "search_result, reasoning = builder.process(\n",
    "  question=question,\n",
    "  llm_kwargs={\"temperature\": 0.6},\n",
    "  ground_truth_answer=ground_truth, \n",
    "  only_successful=False\n",
    ")"
   ]
  },
  {
   "cell_type": "markdown",
   "id": "1f6cdce9",
   "metadata": {},
   "source": [
    "#### Examining results"
   ]
  },
  {
   "cell_type": "code",
   "execution_count": 39,
   "id": "544bbd01",
   "metadata": {},
   "outputs": [
    {
     "name": "stdout",
     "output_type": "stream",
     "text": [
      "Search Result: SearchResult(success=False, question=Four people - Alex, Blake, Cas..., num_terminal_nodes=1, num_successful_nodes=0, successful_answers=[])\n",
      "Step 0: ReasoningNode(strategy=initialize, success=False, final=False, cot_steps=6)\n",
      "Step 1: ReasoningNode(strategy=analogy, success=False, final=False, cot_steps=6)\n",
      "Step 2: ReasoningNode(strategy=analogy, success=False, final=False, cot_steps=6)\n",
      "Step 3: ReasoningNode(strategy=refutation, success=False, final=True, cot_steps=5)\n"
     ]
    }
   ],
   "source": [
    "print(f\"Search Result: {search_result}\")\n",
    "terminal_node = search_result.terminal_nodes[0]\n",
    "for i, node in enumerate(terminal_node.get_full_node_chain()):\n",
    "  print(f\"Step {i}: {node}\")"
   ]
  },
  {
   "cell_type": "markdown",
   "id": "c7422520",
   "metadata": {},
   "source": [
    "We see above that the search was a failure, and the reasoning node steps were: initialize -> analogy -> analogy -> refutation. Let's examine the reasoning node steps in more detail."
   ]
  },
  {
   "cell_type": "code",
   "execution_count": 47,
   "id": "5e4d05b2",
   "metadata": {},
   "outputs": [
    {
     "data": {
      "text/plain": [
       "[{'action': 'Review',\n",
       "  'content': 'The previous reasoning concluded that Dana committed the theft, but this conclusion was later found to be false.'},\n",
       " {'action': 'Inner Thinking',\n",
       "  'title': 'Analogical Reasoning: Theft as a Puzzle',\n",
       "  'content': \"Let's consider the statements like pieces of a puzzle. We need to find the correct combination where three statements are true and one is false. This analogy can help us identify patterns and connections between the statements.\"},\n",
       " {'action': 'Inner Thinking',\n",
       "  'title': 'Re-examining Accusations through Analogies',\n",
       "  'content': \"Alex accuses Blake, and Blake accuses Casey. This is similar to a game of 'whisper down the lane' where information gets distorted. We need to consider the potential for misinformation or misdirection.\"},\n",
       " {'action': 'Inner Thinking',\n",
       "  'title': \"Dana's Denial: A Red Herring?\",\n",
       "  'content': \"Dana's statement 'I didn't do it' is a straightforward denial, but what if it's a red herring? What if Dana is trying to distract us from the real culprit?\"},\n",
       " {'action': 'Inner Thinking',\n",
       "  'title': \"Casey's Statement: A Clue?\",\n",
       "  'content': 'Casey says Blake is lying. This statement could be true or false. If Casey is telling the truth, then Blake did not commit the theft. But if Casey is lying, then Blake might actually be innocent.'},\n",
       " {'action': 'Final Conclusion',\n",
       "  'content': 'Given this analogical reasoning, we conclude that Alex committed the theft.'}]"
      ]
     },
     "execution_count": 47,
     "metadata": {},
     "output_type": "execute_result"
    }
   ],
   "source": [
    "terminal_node.get_full_node_chain()[2].cot"
   ]
  },
  {
   "cell_type": "code",
   "execution_count": 50,
   "id": "e266f360",
   "metadata": {},
   "outputs": [
    {
     "data": {
      "text/plain": [
       "[{'action': 'Review',\n",
       "  'content': 'The previous reasoning concluded that Alex committed the theft, but this conclusion was later found to be false.'},\n",
       " {'action': 'Inner Thinking',\n",
       "  'title': 'Re-examining the Statements',\n",
       "  'content': \"Let's re-analyze the statements with a critical eye. Dana's denial could still be true or false. If she's telling the truth, then one of the other three must be lying. But if she's lying, then her statement would contradict Alex's accusation of Blake.\"},\n",
       " {'action': 'Inner Thinking',\n",
       "  'title': \"Casey's Statement: A Clue?\",\n",
       "  'content': 'Casey says Blake is lying. This statement could be true or false. If Casey is telling the truth, then Blake did not commit the theft. But if Casey is lying, then Blake might actually be innocent.'},\n",
       " {'action': 'Inner Thinking',\n",
       "  'title': \"Alex's Accusation: A Red Herring?\",\n",
       "  'content': \"What if Alex's accusation of Blake doing it is a red herring? What if Alex is trying to distract us from the real culprit?\"},\n",
       " {'action': 'Final Conclusion',\n",
       "  'content': 'Considering these counterarguments and alternative perspectives, we conclude that Dana committed the theft.'}]"
      ]
     },
     "execution_count": 50,
     "metadata": {},
     "output_type": "execute_result"
    }
   ],
   "source": [
    "terminal_node.get_full_node_chain()[3].cot"
   ]
  },
  {
   "cell_type": "markdown",
   "id": "836c015a",
   "metadata": {},
   "source": [
    "We se that node 2 correctly tried to use analogies by thinking of the problem as a puzzle, while node 3 tries to re-examine and refute the previous steps. However, our reasoning strategies do not seem to be a good fit for this puzzle, and the search failed."
   ]
  }
 ],
 "metadata": {
  "kernelspec": {
   "display_name": "cot-forge",
   "language": "python",
   "name": "cot-forge"
  },
  "language_info": {
   "codemirror_mode": {
    "name": "ipython",
    "version": 3
   },
   "file_extension": ".py",
   "mimetype": "text/x-python",
   "name": "python",
   "nbconvert_exporter": "python",
   "pygments_lexer": "ipython3",
   "version": "3.11.5"
  }
 },
 "nbformat": 4,
 "nbformat_minor": 5
}
