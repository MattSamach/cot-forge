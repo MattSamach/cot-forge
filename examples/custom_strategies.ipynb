{
 "cells": [
  {
   "cell_type": "markdown",
   "id": "5deea750",
   "metadata": {},
   "source": [
    "Coming soon..."
   ]
  },
  {
   "cell_type": "markdown",
   "id": "12cd9c82",
   "metadata": {},
   "source": []
  }
 ],
 "metadata": {
  "language_info": {
   "name": "python"
  }
 },
 "nbformat": 4,
 "nbformat_minor": 5
}
