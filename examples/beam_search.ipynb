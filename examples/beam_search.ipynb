{
 "cells": [
  {
   "cell_type": "markdown",
   "id": "a96f7dfa",
   "metadata": {},
   "source": [
    "# Beam Search Example\n",
    "This example demonstrates how to use the `BeamSearch` search algorithm with a simple reasoning task. The Beam Search algorithm is a heuristic search that explores a graph by expanding the most promising nodes in a limited set. Search is performed in a breadth-first manner, keeping track of the best candidates at each level. The algorithm continues until a stopping criterion is met, such as reaching a maximum number of steps or finding a satisfactory solution."
   ]
  },
  {
   "cell_type": "markdown",
   "id": "a2f8cd63",
   "metadata": {},
   "source": [
    "#### Installations\n",
    "This example will use LMStudio for local model serving. Cot-Forge also supports major LLM providers like OpenAI, Cohere, and Anthropic. Download LMStudio [here](https://lmstudio.ai/), download a model and run a local server."
   ]
  },
  {
   "cell_type": "code",
   "execution_count": 1,
   "id": "c27ce049",
   "metadata": {},
   "outputs": [],
   "source": [
    "from cot_forge.llm import LMStudioProvider\n",
    "from cot_forge.reasoning import BeamSearch, CoTBuilder\n",
    "from cot_forge.reasoning.scorers import ProbabilityFinalAnswerScorer\n",
    "from cot_forge.reasoning.verifiers import LLMJudgeVerifier"
   ]
  },
  {
   "cell_type": "markdown",
   "id": "3b33bb36",
   "metadata": {},
   "source": [
    "#### Problem definition\n",
    "A [Caesar cipher](https://en.wikipedia.org/wiki/Caesar_cipher) is a type of substitution cipher in which each letter in the plaintext is replaced by a letter some fixed number of positions down or up the alphabet. We will attempt to use beam search to decode a simple Caesar cipher."
   ]
  },
  {
   "cell_type": "code",
   "execution_count": 2,
   "id": "574e52bf",
   "metadata": {},
   "outputs": [],
   "source": [
    "question = \"Decipher this code: 73102109109112338811211510910134.\"\n",
    "ground_truth = \"Hello World!\""
   ]
  },
  {
   "cell_type": "markdown",
   "id": "cb6956dd",
   "metadata": {},
   "source": [
    "#### Using CoTBuilder class"
   ]
  },
  {
   "cell_type": "code",
   "execution_count": 3,
   "id": "f41db10a",
   "metadata": {},
   "outputs": [],
   "source": [
    "# We'l use qwen2.5-14b-instruct-1m as the search_llm, scorer and verifier.\n",
    "qwen2_5_14b = LMStudioProvider(model_name=\"qwen2.5-14b-instruct-1m\")\n",
    "# We'll use Llama 3.1 8b for our 'post_processing' LLM which converts our reasoning graphs into natural language.\n",
    "llama3_1_8b = LMStudioProvider(model_name=\"meta-llama-3.1-8b-instruct\")"
   ]
  },
  {
   "cell_type": "code",
   "execution_count": null,
   "id": "29f0dafd",
   "metadata": {},
   "outputs": [],
   "source": [
    "builder = CoTBuilder(\n",
    "    search_llm=qwen2_5_14b,\n",
    "    post_processing_llm=llama3_1_8b,\n",
    "    search=BeamSearch(max_depth=3, beam_width=3, branching_factor=3),\n",
    "    verifier=LLMJudgeVerifier(qwen2_5_14b, strict=False),\n",
    "    scorer=ProbabilityFinalAnswerScorer(qwen2_5_14b)\n",
    ")"
   ]
  },
  {
   "cell_type": "code",
   "execution_count": 9,
   "id": "fcabc9b4",
   "metadata": {},
   "outputs": [
    {
     "name": "stderr",
     "output_type": "stream",
     "text": [
      "Error decoding JSON: Invalid \\escape: line 5 column 204 (char 909)\n",
      "LLM generation and json parsing failed: Invalid response format. Expected a JSON string.. Retrying (1/5)...\n",
      "Error decoding JSON: Invalid \\escape: line 5 column 331 (char 1056)\n",
      "LLM generation and json parsing failed: Invalid response format. Expected a JSON string.. Retrying (1/5)...\n"
     ]
    }
   ],
   "source": [
    "search_result, reasoning = builder.process(\n",
    "  question=question,\n",
    "  ground_truth_answer=ground_truth,\n",
    "  only_successful=False\n",
    ")"
   ]
  },
  {
   "cell_type": "code",
   "execution_count": 11,
   "id": "f7bb96ec",
   "metadata": {},
   "outputs": [
    {
     "data": {
      "text/plain": [
       "SearchResult(question=Decipher this code: 7310210910..., ground_truth_answer=Hello World!, num_terminal_nodes=2, success=False, successful_nodes=0, metadata={'depth': 2, 'reason': 'Max depth reached'})"
      ]
     },
     "execution_count": 11,
     "metadata": {},
     "output_type": "execute_result"
    }
   ],
   "source": [
    "search_result"
   ]
  }
 ],
 "metadata": {
  "kernelspec": {
   "display_name": "cot-forge",
   "language": "python",
   "name": "cot-forge"
  },
  "language_info": {
   "codemirror_mode": {
    "name": "ipython",
    "version": 3
   },
   "file_extension": ".py",
   "mimetype": "text/x-python",
   "name": "python",
   "nbconvert_exporter": "python",
   "pygments_lexer": "ipython3",
   "version": "3.11.5"
  }
 },
 "nbformat": 4,
 "nbformat_minor": 5
}
