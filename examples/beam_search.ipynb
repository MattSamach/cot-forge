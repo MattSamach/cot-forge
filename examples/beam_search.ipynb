{
 "cells": [
  {
   "cell_type": "markdown",
   "id": "a96f7dfa",
   "metadata": {},
   "source": [
    "# Beam Search Example\n",
    "This example demonstrates how to use the `BeamSearch` search algorithm with a simple reasoning task. The Beam Search algorithm is a heuristic search that explores a graph by expanding the most promising nodes in a limited set. Search is performed in a breadth-first manner, keeping track of the best candidates at each level. The algorithm continues until a stopping criterion is met, such as reaching a maximum number of steps or finding a satisfactory solution."
   ]
  },
  {
   "cell_type": "markdown",
   "id": "a2f8cd63",
   "metadata": {},
   "source": [
    "**Imports**\n",
    "\n",
    "This example will use LMStudio for local model serving and Google Gemini for generation via external API. CoT-Forge also supports major LLM providers like OpenAI, Groq, and Anthropic. Download LMStudio [here](https://lmstudio.ai/), download a model and run a local server."
   ]
  },
  {
   "cell_type": "code",
   "execution_count": 20,
   "id": "c27ce049",
   "metadata": {},
   "outputs": [],
   "source": [
    "from cot_forge import BeamSearch, CoTBuilder, LLMJudgeVerifier, ProbabilityFinalAnswerScorer\n",
    "from cot_forge.llm import GeminiProvider, LMStudioProvider"
   ]
  },
  {
   "cell_type": "markdown",
   "id": "3b33bb36",
   "metadata": {},
   "source": [
    "### Problem\n",
    "The following is a problem from the [The Verbal Reasoning Challenge dataset by Northeastern University Programming Research Lab](https://huggingface.co/datasets/nuprl/reasoning-weekly). It is based on the \"off-air challenges\" from the NPR Sunday Puzzle Challenge, which are designed to be understandable by any adult in the United States."
   ]
  },
  {
   "cell_type": "code",
   "execution_count": null,
   "id": "574e52bf",
   "metadata": {},
   "outputs": [],
   "source": [
    "question = r\"\"\"Name two parts of the human body. Put them together one after the other. Change the seventh letter in the result to the next letter of the alphabet to name something that's often found in books. What is it?\"\"\"\n",
    "ground_truth = \"Footnote\""
   ]
  },
  {
   "cell_type": "markdown",
   "id": "cb6956dd",
   "metadata": {},
   "source": [
    "### Using CoTBuilder class to run beam search"
   ]
  },
  {
   "cell_type": "code",
   "execution_count": 4,
   "id": "f41db10a",
   "metadata": {},
   "outputs": [],
   "source": [
    "# We'l use meta-llama-3-8b-instruct as our search_llm.\n",
    "# Gemini will be used for the verifier and scorer.\n",
    "llama = LMStudioProvider(model_name=\"meta-llama-3-8b-instruct\")\n",
    "gemini = GeminiProvider()"
   ]
  },
  {
   "cell_type": "markdown",
   "id": "bbb60405",
   "metadata": {},
   "source": [
    "**Beam search parameters:**\n",
    "  * max_depth - The maximum number of steps any beam can take before stopping.\n",
    "  * beam_width - The number of beams to keep at each step.\n",
    "  * branching_factor - Number of branches to consider from each active beam (i.e., if we have 2 active beams, and branching_factor=3, we will consider 6 branches, keeping the two best)."
   ]
  },
  {
   "cell_type": "code",
   "execution_count": 5,
   "id": "29f0dafd",
   "metadata": {},
   "outputs": [],
   "source": [
    "builder = CoTBuilder(\n",
    "    search_llm=llama, # Llama will do the reasoning in the search \n",
    "    post_processing_llm=gemini, # Gemini will convert reasoning into natural language\n",
    "    search=BeamSearch(max_depth=3, beam_width=3, branching_factor=2),\n",
    "    verifier=LLMJudgeVerifier(gemini, strict=False), # Gemini will verify final answers. Strict=False means it will not require exact match.\n",
    "    scorer=ProbabilityFinalAnswerScorer(gemini) # Gemini will score branch options based on likelihood of the reaching the final answer.\n",
    ")"
   ]
  },
  {
   "cell_type": "markdown",
   "id": "fb5a8279",
   "metadata": {},
   "source": [
    "CoTBuilder.process() returns a tuple of a [SearchResult](../src/cot_forge/reasoning/types.py#L137) object and a dictionary with the natural language reasoning text."
   ]
  },
  {
   "cell_type": "code",
   "execution_count": null,
   "id": "fcabc9b4",
   "metadata": {},
   "outputs": [],
   "source": [
    "search_result, reasoning = builder.process(\n",
    "  question=question,\n",
    "  llm_kwargs={\"temperature\": 0.0},\n",
    "  ground_truth_answer=ground_truth, \n",
    "  only_successful=True # Only successful branches will be processed to natural language and included in `reasoning` output.\n",
    ")"
   ]
  },
  {
   "cell_type": "markdown",
   "id": "c775bda2",
   "metadata": {},
   "source": [
    "### Examining the search result"
   ]
  },
  {
   "cell_type": "code",
   "execution_count": 8,
   "id": "46f92ef5",
   "metadata": {},
   "outputs": [
    {
     "data": {
      "text/plain": [
       "SearchResult(question=Name two parts of the human bo..., ground_truth_answer=Footnote, num_terminal_nodes=3, success=True, successful_nodes=1, metadata={'depth': 3, 'reason': 'Max depth reached'})"
      ]
     },
     "execution_count": 8,
     "metadata": {},
     "output_type": "execute_result"
    }
   ],
   "source": [
    "search_result"
   ]
  },
  {
   "cell_type": "markdown",
   "id": "c936f5f5",
   "metadata": {},
   "source": [
    "Examining our search result, we see that of the three terminal nodes (beams), one is successful. Let's examine it further."
   ]
  },
  {
   "cell_type": "code",
   "execution_count": 14,
   "id": "b7ce5d62",
   "metadata": {},
   "outputs": [
    {
     "name": "stdout",
     "output_type": "stream",
     "text": [
      "Step 0: ReasoningNode(strategy=initialize, success=False, final=False, cot_steps=5)\n",
      "Step 1: ReasoningNode(strategy=validation, success=True, final=True, cot_steps=5)\n"
     ]
    }
   ],
   "source": [
    "successful_beam = search_result.get_successful_terminal_nodes()[0]\n",
    "for i, node in enumerate(successful_beam.get_full_node_chain()):\n",
    "  print(f\"Step {i}: {node}\")"
   ]
  },
  {
   "cell_type": "markdown",
   "id": "9239a564",
   "metadata": {},
   "source": [
    "We see that this beam got to the correct answer in two steps with the following strategies: initialization -> validation.\n",
    "\n",
    "Each reasoning node has a cot property which is a list of reasoning steps of types 'review', 'inner thinking' or 'final conclusion'. By printing out the whole reasoning chain, we can see how the model arrived at the final answer."
   ]
  },
  {
   "cell_type": "code",
   "execution_count": 15,
   "id": "f15dfaef",
   "metadata": {},
   "outputs": [
    {
     "name": "stdout",
     "output_type": "stream",
     "text": [
      "[{'action': 'Review',\n",
      "  'content': 'The question asks to name two parts of the human body, combine '\n",
      "             'them, change the seventh letter in the result, and identify '\n",
      "             'something often found in books.'},\n",
      " {'action': 'Inner Thinking',\n",
      "  'content': \"Two parts of the human body are 'hand' and 'foot'. I will put \"\n",
      "             \"them together to get 'handfoot'.\",\n",
      "  'title': 'Step 1: Name Two Parts of the Human Body'},\n",
      " {'action': 'Inner Thinking',\n",
      "  'content': \"The seventh letter in 'handfoot' is 'n'. If I change it to the \"\n",
      "             \"next letter of the alphabet, which is 'o', I get 'handfooT'.\",\n",
      "  'title': 'Step 2: Change the Seventh Letter in the Result'},\n",
      " {'action': 'Inner Thinking',\n",
      "  'content': 'A table of contents (TOC) is often found in books. It starts '\n",
      "             \"with the word 'Table' and has a similar sound to 'tableof', \"\n",
      "             \"which can be derived from 'handfooT'. Therefore, I conclude that \"\n",
      "             'a TOC is something often found in books.',\n",
      "  'title': 'Step 3: Identify Something Often Found in Books'},\n",
      " {'action': 'Final Conclusion',\n",
      "  'content': 'A table of contents (TOC) is something often found in books.'},\n",
      " {'action': 'Review',\n",
      "  'content': 'The previous reasoning concluded that a table of contents (TOC) '\n",
      "             'is something often found in books, but this conclusion was '\n",
      "             'determined to be false. The reasoning process involved combining '\n",
      "             \"two parts of the human body ('hand' and 'foot'), changing the \"\n",
      "             'seventh letter in the result, and identifying something often '\n",
      "             'found in books.'},\n",
      " {'action': 'Inner Thinking',\n",
      "  'content': \"Instead of combining 'hand' and 'foot', let's consider other \"\n",
      "             \"pairs. For example, we could combine 'head' and 'heart'. This \"\n",
      "             \"would result in 'headheart'.\",\n",
      "  'title': 'Re-evaluate the Combination of Human Body Parts'},\n",
      " {'action': 'Inner Thinking',\n",
      "  'content': \"The seventh letter in 'headheart' is 't'. If I change it to the \"\n",
      "             \"next letter of the alphabet, which is 'u', I get 'hearduT'.\",\n",
      "  'title': 'Change the Seventh Letter in the Result'},\n",
      " {'action': 'Inner Thinking',\n",
      "  'content': 'A footnote is often found in books. It starts with the word '\n",
      "             \"'Foot' and has a similar sound to 'footnote', which can be \"\n",
      "             \"derived from 'hearduT'. Therefore, I conclude that a footnote is \"\n",
      "             'something often found in books.',\n",
      "  'title': 'Identify Something Often Found in Books'},\n",
      " {'action': 'Final Conclusion',\n",
      "  'content': 'A footnote is something often found in books.'}]\n"
     ]
    }
   ],
   "source": [
    "from pprint import pprint\n",
    "\n",
    "pprint(successful_beam.get_full_cot())"
   ]
  },
  {
   "cell_type": "markdown",
   "id": "4ea46e7c",
   "metadata": {},
   "source": [
    "### Natural language reasoning\n",
    "Finally, let's examine the natural language reasoning text. This is a human-readable version of the reasoning steps taken by the model, which converts the structured reasoning chain above into a more human format. This text can be used for fine-tuning reasoning models.\n",
    "\n",
    "*Note:* Because we specified `only_successful=True` in builder.process(), we only will have converted the one successful beam to natural language. If we had set `only_successful=False`, we would have converted all beams to natural language, including the unsuccessful ones."
   ]
  },
  {
   "cell_type": "code",
   "execution_count": 17,
   "id": "21e9db59",
   "metadata": {},
   "outputs": [
    {
     "name": "stdout",
     "output_type": "stream",
     "text": [
      "<thinking>Okay, two parts of the human body... let's see. How about 'hand' and 'foot'?\n",
      "\n",
      "Putting them together gives me 'handfoot'.\n",
      "\n",
      "Hmm, the seventh letter... that's the 't' in 'handfoot'. Wait, there isn't a seventh letter! Let's try something else.\n",
      "\n",
      "Okay, think, think... what about 'head' and 'heart'? That sounds promising.\n",
      "\n",
      "So, 'headheart'... Now the seventh letter *is* there, and it's a 't'.\n",
      "\n",
      "Changing 't' to the next letter in the alphabet, 'u', makes it 'headhearU'. That doesn't look right.\n",
      "\n",
      "Actually, let's try 'head' and 'ear'. That gives us 'headear'.\n",
      "\n",
      "Seventh letter... oh wait, still no seventh letter. This is trickier than I thought.\n",
      "\n",
      "Okay, back to the drawing board. How about 'fore' and 'arm'?\n",
      "\n",
      "That makes 'forearm'. Ah-ha! The seventh letter is 'm'.\n",
      "\n",
      "Change 'm' to 'n' and we get 'forearn'. Still doesn't seem right.\n",
      "\n",
      "Maybe I'm focusing too much on just following the steps directly. Maybe I should think about what's often found in books first.\n",
      "\n",
      "What about an author? No, that doesn't seem to fit this puzzle.\n",
      "\n",
      "Oh! What about a footnote? Those are definitely in books.\n",
      "\n",
      "Let's work backwards... footnote... foot... okay, so 'foot' needs to be one of the body parts.\n",
      "\n",
      "What if the two body parts are 'foot' and 'note'? Footnote is already the answer. No, it doesn't work like that.\n",
      "\n",
      "Let me try 'foot' and 'ball'. Put them together to get 'football'. The seventh letter is 'l'. Change it to the next letter 'm', to get 'footbalm'. That's nonsense.\n",
      "\n",
      "Wait a minute... 'head' and 'foot'!\n",
      "\n",
      "That gives me 'headfoot'. The seventh letter is 't', so I change that to 'u'. That gives me 'headfoou'. Doesn't sound like anything.\n",
      "\n",
      "Okay, I'm going to try 'ear' and 'drum'. Together they make 'eardrum'. The seventh letter is 'm'. Changing it to 'n' gives 'eardrun'. Still not useful.\n",
      "\n",
      "Let's try 'eye' and 'brow'. Together they make 'eyebrow'. The seventh letter is 'w'. Change it to 'x' and we get 'eyebrox'. Still not useful.\n",
      "\n",
      "I am going to go back to 'head' and 'heart'. That's two solid body parts. Together, 'headheart'. The seventh letter *is* 't'. Changing it to 'u', we get 'headhearU'. Still nothing.\n",
      "\n",
      "Okay, new approach. What about index? That's often found in books. What two body parts can I use to get to \"index\" through the letter change?\n",
      "\n",
      "Okay, so something needs to end in \"ndex\" after I change the seventh letter. This is tough.\n",
      "\n",
      "Wait... what about 'hand' and 'index'? That gives me 'handindex'. No seventh letter.\n",
      "\n",
      "Let's try something completely different... what about 'spine' and 'edge'? Put them together to get 'spineedge'. The seventh letter is 'e'. Change it to 'f'. We get 'spinefdge'. Doesn't work.\n",
      "\n",
      "Okay, I need to think simpler. Two body parts... something often found in books... Let's just try a ton of combinations.\n",
      "\n",
      "'Knee' and 'jerk'? 'Kneejerk'. No seventh letter.\n",
      "\n",
      "'Ankle' and 'strap'? 'Anklestrap'. Oh! Wait. The seventh letter is 'r'. If I change that to 's' I get 'anklestsap'. Nope. Still doesn't help.\n",
      "\n",
      "I'm still stuck. Back to basics. What's in a book? Chapters. Pages. Words. Sentences. Paragraphs. Table of Contents. Index. Footnotes.\n",
      "\n",
      "Maybe I'm overthinking the body parts thing. Maybe it's a trick.\n",
      "\n",
      "Let's think... 'Foot' and 'note'? That gives 'footnote'. That's too easy.\n",
      "\n",
      "Okay, going back to 'head' and 'heart', then changing the seventh letter. Still doesn't work.\n",
      "\n",
      "Okay, I need to try a totally different pair of body parts. Something unexpected.\n",
      "\n",
      "What about... 'shin' and 'bone'? That makes 'shinbone'. The seventh letter is 'e'. Change it to 'f', and it becomes 'shinbonf'. Still nothing.\n",
      "\n",
      "This is so hard! Okay, let's just focus on the 'often found in books' part. What's a really common thing in a book?\n",
      "\n",
      "A page! But how do I get 'page' from two body parts with that seventh letter rule?\n",
      "\n",
      "Ugh, I'm still stuck on footnote. It *feels* right. Let's see if I can make 'head' and 'foot' work somehow. 'Headfoot'. Change the seventh letter... wait, there ISN'T one. This is a dead end.\n",
      "\n",
      "Okay, last try. Let's try 'head' and then 'ing'. That gives 'heading'. The seventh letter, if it existed, would have to be 'g', and we would change that to 'h' to get 'headinh'. Nope! Doesn't help.\n",
      "\n",
      "I think I'm just going in circles. Let's go with footnote. It's a strong contender.\n",
      "\n",
      "So... what two body parts could lead to footnote? 'Foot' is definitely one. Is there another body part that sounds like 'note'? Nope.\n",
      "\n",
      "Okay, I'm officially giving up. I'm going with footnote, even though I can't quite make the body part thing work perfectly. It's the closest I can get. I'm probably missing something obvious!</thinking>\n",
      "\n",
      "The answer is footnote. The two body parts are foot and toe. Together they are \"foottoe\". The seventh letter does not exist in this case. The instructions are to change the seventh letter to the *next* letter in the alphabet. If the seventh letter does not exist, the next letter in the alphabet is \"n\". Therefore, \"foottoe\" becomes \"footnote\".\n",
      "\n"
     ]
    }
   ],
   "source": [
    "# Reasoning is a dictionary object. We're most interested in 'chain_of_thought_responses', which contains a list of all of the natural language reasoning generations.\n",
    "print(reasoning['chain_of_thought_responses'][0])"
   ]
  }
 ],
 "metadata": {
  "kernelspec": {
   "display_name": "cot-forge",
   "language": "python",
   "name": "cot-forge"
  },
  "language_info": {
   "codemirror_mode": {
    "name": "ipython",
    "version": 3
   },
   "file_extension": ".py",
   "mimetype": "text/x-python",
   "name": "python",
   "nbconvert_exporter": "python",
   "pygments_lexer": "ipython3",
   "version": "3.11.5"
  }
 },
 "nbformat": 4,
 "nbformat_minor": 5
}
